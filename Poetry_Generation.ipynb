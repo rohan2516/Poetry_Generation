{
  "cells": [
    {
      "cell_type": "code",
      "execution_count": null,
      "metadata": {
        "id": "XBAn8C2pw3G1"
      },
      "outputs": [],
      "source": [
        "!wget --no-check-certificate \\\n",
        "    https://storage.googleapis.com/laurencemoroney-blog.appspot.com/irish-lyrics-eof.txt \\\n",
        "    -O /tmp/irish-lyrics-eof.txt"
      ]
    },
    {
      "cell_type": "code",
      "execution_count": 50,
      "metadata": {
        "id": "4WQLIMpRxyW_"
      },
      "outputs": [],
      "source": [
        "import string\n",
        "import numpy as np\n",
        "import tensorflow as tf\n",
        "from tensorflow import keras\n",
        "from keras.models import Model\n",
        "from keras.layers import Embedding, LSTM, Dense, Bidirectional, Input\n",
        "from keras.preprocessing.text import Tokenizer\n",
        "from keras.preprocessing.sequence import pad_sequences\n",
        "import matplotlib.pyplot as plt\n",
        "import pickle"
      ]
    },
    {
      "cell_type": "markdown",
      "metadata": {
        "id": "dwKr9izp5XVE"
      },
      "source": [
        "**DATA CLEANING AND PREPARATION**"
      ]
    },
    {
      "cell_type": "code",
      "execution_count": 2,
      "metadata": {
        "id": "2RmZ-DkQxMZr"
      },
      "outputs": [],
      "source": [
        "data = open('/tmp/irish-lyrics-eof.txt').read()"
      ]
    },
    {
      "cell_type": "code",
      "execution_count": 4,
      "metadata": {
        "id": "UlhYRx2fxeMQ"
      },
      "outputs": [],
      "source": [
        "data = data.lower().split('\\n')"
      ]
    },
    {
      "cell_type": "code",
      "execution_count": null,
      "metadata": {
        "id": "HMGJSSUFyFdv"
      },
      "outputs": [],
      "source": [
        "punc = set(string.punctuation)\n",
        "print(punc)"
      ]
    },
    {
      "cell_type": "code",
      "execution_count": 10,
      "metadata": {
        "id": "O_aGljk-xrSU"
      },
      "outputs": [],
      "source": [
        "for i in range(len(data)):\n",
        "  st = data[i]\n",
        "  out_st = ''.join(ch for ch in st if ch not in punc)\n",
        "  data[i] = out_st"
      ]
    },
    {
      "cell_type": "code",
      "execution_count": 15,
      "metadata": {
        "id": "3UTGFkGQymUJ"
      },
      "outputs": [],
      "source": [
        "tokenizer = Tokenizer()\n",
        "tokenizer.fit_on_texts(data)"
      ]
    },
    {
      "cell_type": "code",
      "execution_count": 18,
      "metadata": {
        "colab": {
          "base_uri": "https://localhost:8080/"
        },
        "id": "WKUydubM0g2o",
        "outputId": "e7df95e9-515e-44a7-ee83-cd6f39804301"
      },
      "outputs": [
        {
          "name": "stdout",
          "output_type": "stream",
          "text": [
            "2703\n"
          ]
        }
      ],
      "source": [
        "total_words = len(tokenizer.word_index) + 1\n",
        "print(total_words)"
      ]
    },
    {
      "cell_type": "code",
      "execution_count": 20,
      "metadata": {
        "id": "gaJyZ8mx2Erv"
      },
      "outputs": [],
      "source": [
        "input_seq = []\n",
        "for line in data:\n",
        "  st = tokenizer.texts_to_sequences([line])[0]\n",
        "  for i in range(1,len(st)):\n",
        "    ngs = st[:i+1]\n",
        "    input_seq.append(ngs)"
      ]
    },
    {
      "cell_type": "code",
      "execution_count": null,
      "metadata": {
        "id": "7fbZtuaO3HXw"
      },
      "outputs": [],
      "source": [
        "max_seq_length = max([len(st) for st in input_seq])\n",
        "print(max_seq_length)"
      ]
    },
    {
      "cell_type": "code",
      "execution_count": 26,
      "metadata": {
        "id": "swasGJt23nXi"
      },
      "outputs": [],
      "source": [
        "input_seq = np.array(pad_sequences(input_seq, maxlen=max_seq_length, padding='pre'))"
      ]
    },
    {
      "cell_type": "code",
      "execution_count": 28,
      "metadata": {
        "id": "g55rz7nU4Bk5"
      },
      "outputs": [],
      "source": [
        "x_train = input_seq[:,:-1]\n",
        "y_train = input_seq[:,-1]"
      ]
    },
    {
      "cell_type": "code",
      "execution_count": 29,
      "metadata": {
        "id": "LeVT0O8n4dzH"
      },
      "outputs": [],
      "source": [
        "y_train = tf.keras.utils.to_categorical(y_train, num_classes=total_words)"
      ]
    },
    {
      "cell_type": "markdown",
      "metadata": {
        "id": "iCoOqTBT53VP"
      },
      "source": [
        "**MODEL CREATION AND TRAINING**"
      ]
    },
    {
      "cell_type": "code",
      "execution_count": 45,
      "metadata": {
        "id": "nDpxd1LB401f"
      },
      "outputs": [],
      "source": [
        "input = Input(shape=max_seq_length-1)\n",
        "emb = Embedding(input_dim=total_words, output_dim=120, input_length=max_seq_length-1)(input)\n",
        "x = Bidirectional(LSTM(256, return_sequences=True))(emb)\n",
        "x = Bidirectional(LSTM(256, return_sequences=True))(x)\n",
        "x = Bidirectional(LSTM(256))(x)\n",
        "x = Dense(128,activation='relu')(x)\n",
        "output = Dense(total_words,activation='softmax')(x)\n",
        "\n",
        "model = Model(inputs=[input],outputs=[output])"
      ]
    },
    {
      "cell_type": "code",
      "execution_count": 46,
      "metadata": {
        "colab": {
          "base_uri": "https://localhost:8080/"
        },
        "id": "il-dND5r9jnb",
        "outputId": "568995a3-766f-42af-fc00-4b48f7e2ce54"
      },
      "outputs": [
        {
          "name": "stdout",
          "output_type": "stream",
          "text": [
            "Model: \"model\"\n",
            "_________________________________________________________________\n",
            " Layer (type)                Output Shape              Param #   \n",
            "=================================================================\n",
            " input_1 (InputLayer)        [(None, 15)]              0         \n",
            "                                                                 \n",
            " embedding_6 (Embedding)     (None, 15, 120)           324360    \n",
            "                                                                 \n",
            " bidirectional_6 (Bidirectio  (None, 15, 512)          772096    \n",
            " nal)                                                            \n",
            "                                                                 \n",
            " bidirectional_7 (Bidirectio  (None, 15, 512)          1574912   \n",
            " nal)                                                            \n",
            "                                                                 \n",
            " bidirectional_8 (Bidirectio  (None, 512)              1574912   \n",
            " nal)                                                            \n",
            "                                                                 \n",
            " dense (Dense)               (None, 128)               65664     \n",
            "                                                                 \n",
            " dense_1 (Dense)             (None, 2703)              348687    \n",
            "                                                                 \n",
            "=================================================================\n",
            "Total params: 4,660,631\n",
            "Trainable params: 4,660,631\n",
            "Non-trainable params: 0\n",
            "_________________________________________________________________\n"
          ]
        }
      ],
      "source": [
        "model.summary()"
      ]
    },
    {
      "cell_type": "code",
      "execution_count": 47,
      "metadata": {
        "id": "RDCpRfhL9oer"
      },
      "outputs": [],
      "source": [
        "model.compile(loss='categorical_crossentropy', optimizer='adam', metrics=['accuracy'])"
      ]
    },
    {
      "cell_type": "code",
      "execution_count": 48,
      "metadata": {
        "id": "7bb0fj2S98be"
      },
      "outputs": [],
      "source": [
        "early_callback = tf.keras.callbacks.EarlyStopping(monitor='accuracy', min_delta=0, patience=7, restore_best_weights=True)"
      ]
    },
    {
      "cell_type": "code",
      "execution_count": 49,
      "metadata": {
        "colab": {
          "base_uri": "https://localhost:8080/"
        },
        "id": "FtRol-8X96HR",
        "outputId": "70d02e9e-d5a0-4570-a506-479e36c4c3d5"
      },
      "outputs": [
        {
          "name": "stdout",
          "output_type": "stream",
          "text": [
            "Epoch 1/200\n",
            "375/375 [==============================] - 30s 45ms/step - loss: 6.7620 - accuracy: 0.0656\n",
            "Epoch 2/200\n",
            "375/375 [==============================] - 16s 42ms/step - loss: 6.4304 - accuracy: 0.0661\n",
            "Epoch 3/200\n",
            "375/375 [==============================] - 16s 42ms/step - loss: 6.2809 - accuracy: 0.0662\n",
            "Epoch 4/200\n",
            "375/375 [==============================] - 17s 44ms/step - loss: 6.1561 - accuracy: 0.0715\n",
            "Epoch 5/200\n",
            "375/375 [==============================] - 16s 42ms/step - loss: 5.9964 - accuracy: 0.0797\n",
            "Epoch 6/200\n",
            "375/375 [==============================] - 16s 42ms/step - loss: 5.8318 - accuracy: 0.0877\n",
            "Epoch 7/200\n",
            "375/375 [==============================] - 16s 42ms/step - loss: 5.6644 - accuracy: 0.1022\n",
            "Epoch 8/200\n",
            "375/375 [==============================] - 16s 42ms/step - loss: 5.5124 - accuracy: 0.1083\n",
            "Epoch 9/200\n",
            "375/375 [==============================] - 16s 42ms/step - loss: 5.3851 - accuracy: 0.1154\n",
            "Epoch 10/200\n",
            "375/375 [==============================] - 16s 42ms/step - loss: 5.2606 - accuracy: 0.1203\n",
            "Epoch 11/200\n",
            "375/375 [==============================] - 16s 42ms/step - loss: 5.1503 - accuracy: 0.1245\n",
            "Epoch 12/200\n",
            "375/375 [==============================] - 16s 42ms/step - loss: 5.0421 - accuracy: 0.1333\n",
            "Epoch 13/200\n",
            "375/375 [==============================] - 16s 42ms/step - loss: 4.9417 - accuracy: 0.1367\n",
            "Epoch 14/200\n",
            "375/375 [==============================] - 16s 42ms/step - loss: 4.8502 - accuracy: 0.1425\n",
            "Epoch 15/200\n",
            "375/375 [==============================] - 16s 42ms/step - loss: 4.7315 - accuracy: 0.1507\n",
            "Epoch 16/200\n",
            "375/375 [==============================] - 16s 42ms/step - loss: 4.6393 - accuracy: 0.1579\n",
            "Epoch 17/200\n",
            "375/375 [==============================] - 16s 42ms/step - loss: 4.5434 - accuracy: 0.1608\n",
            "Epoch 18/200\n",
            "375/375 [==============================] - 16s 42ms/step - loss: 4.4280 - accuracy: 0.1700\n",
            "Epoch 19/200\n",
            "375/375 [==============================] - 16s 42ms/step - loss: 4.3237 - accuracy: 0.1803\n",
            "Epoch 20/200\n",
            "375/375 [==============================] - 16s 42ms/step - loss: 4.2140 - accuracy: 0.1873\n",
            "Epoch 21/200\n",
            "375/375 [==============================] - 16s 42ms/step - loss: 4.1191 - accuracy: 0.1945\n",
            "Epoch 22/200\n",
            "375/375 [==============================] - 16s 42ms/step - loss: 4.0000 - accuracy: 0.2042\n",
            "Epoch 23/200\n",
            "375/375 [==============================] - 16s 42ms/step - loss: 3.8905 - accuracy: 0.2140\n",
            "Epoch 24/200\n",
            "375/375 [==============================] - 16s 42ms/step - loss: 3.7868 - accuracy: 0.2250\n",
            "Epoch 25/200\n",
            "375/375 [==============================] - 16s 42ms/step - loss: 3.6791 - accuracy: 0.2353\n",
            "Epoch 26/200\n",
            "375/375 [==============================] - 16s 42ms/step - loss: 3.6435 - accuracy: 0.2350\n",
            "Epoch 27/200\n",
            "375/375 [==============================] - 16s 42ms/step - loss: 3.5047 - accuracy: 0.2524\n",
            "Epoch 28/200\n",
            "375/375 [==============================] - 16s 42ms/step - loss: 3.3980 - accuracy: 0.2595\n",
            "Epoch 29/200\n",
            "375/375 [==============================] - 16s 42ms/step - loss: 3.3042 - accuracy: 0.2744\n",
            "Epoch 30/200\n",
            "375/375 [==============================] - 16s 42ms/step - loss: 3.2050 - accuracy: 0.2850\n",
            "Epoch 31/200\n",
            "375/375 [==============================] - 16s 42ms/step - loss: 3.0922 - accuracy: 0.3026\n",
            "Epoch 32/200\n",
            "375/375 [==============================] - 16s 42ms/step - loss: 3.0162 - accuracy: 0.3149\n",
            "Epoch 33/200\n",
            "375/375 [==============================] - 16s 42ms/step - loss: 2.9195 - accuracy: 0.3289\n",
            "Epoch 34/200\n",
            "375/375 [==============================] - 16s 43ms/step - loss: 2.8330 - accuracy: 0.3423\n",
            "Epoch 35/200\n",
            "375/375 [==============================] - 16s 42ms/step - loss: 2.7700 - accuracy: 0.3477\n",
            "Epoch 36/200\n",
            "375/375 [==============================] - 16s 42ms/step - loss: 2.6594 - accuracy: 0.3715\n",
            "Epoch 37/200\n",
            "375/375 [==============================] - 16s 42ms/step - loss: 2.6037 - accuracy: 0.3851\n",
            "Epoch 38/200\n",
            "375/375 [==============================] - 16s 42ms/step - loss: 2.5106 - accuracy: 0.4038\n",
            "Epoch 39/200\n",
            "375/375 [==============================] - 16s 42ms/step - loss: 2.4292 - accuracy: 0.4213\n",
            "Epoch 40/200\n",
            "375/375 [==============================] - 16s 42ms/step - loss: 2.4212 - accuracy: 0.4202\n",
            "Epoch 41/200\n",
            "375/375 [==============================] - 16s 42ms/step - loss: 2.3932 - accuracy: 0.4267\n",
            "Epoch 42/200\n",
            "375/375 [==============================] - 16s 42ms/step - loss: 2.2659 - accuracy: 0.4544\n",
            "Epoch 43/200\n",
            "375/375 [==============================] - 16s 42ms/step - loss: 2.1703 - accuracy: 0.4719\n",
            "Epoch 44/200\n",
            "375/375 [==============================] - 16s 42ms/step - loss: 2.0837 - accuracy: 0.4930\n",
            "Epoch 45/200\n",
            "375/375 [==============================] - 16s 42ms/step - loss: 2.0316 - accuracy: 0.5000\n",
            "Epoch 46/200\n",
            "375/375 [==============================] - 16s 42ms/step - loss: 1.9853 - accuracy: 0.5144\n",
            "Epoch 47/200\n",
            "375/375 [==============================] - 16s 42ms/step - loss: 1.9961 - accuracy: 0.5101\n",
            "Epoch 48/200\n",
            "375/375 [==============================] - 16s 42ms/step - loss: 1.8327 - accuracy: 0.5476\n",
            "Epoch 49/200\n",
            "375/375 [==============================] - 16s 42ms/step - loss: 1.9209 - accuracy: 0.5336\n",
            "Epoch 50/200\n",
            "375/375 [==============================] - 16s 42ms/step - loss: 1.7337 - accuracy: 0.5715\n",
            "Epoch 51/200\n",
            "375/375 [==============================] - 16s 42ms/step - loss: 1.6997 - accuracy: 0.5794\n",
            "Epoch 52/200\n",
            "375/375 [==============================] - 16s 42ms/step - loss: 1.6436 - accuracy: 0.5899\n",
            "Epoch 53/200\n",
            "375/375 [==============================] - 16s 42ms/step - loss: 1.5527 - accuracy: 0.6157\n",
            "Epoch 54/200\n",
            "375/375 [==============================] - 16s 43ms/step - loss: 1.4935 - accuracy: 0.6297\n",
            "Epoch 55/200\n",
            "375/375 [==============================] - 16s 43ms/step - loss: 1.4600 - accuracy: 0.6340\n",
            "Epoch 56/200\n",
            "375/375 [==============================] - 16s 42ms/step - loss: 1.4204 - accuracy: 0.6437\n",
            "Epoch 57/200\n",
            "375/375 [==============================] - 16s 42ms/step - loss: 1.3781 - accuracy: 0.6533\n",
            "Epoch 58/200\n",
            "375/375 [==============================] - 16s 42ms/step - loss: 1.3114 - accuracy: 0.6730\n",
            "Epoch 59/200\n",
            "375/375 [==============================] - 16s 42ms/step - loss: 1.2701 - accuracy: 0.6838\n",
            "Epoch 60/200\n",
            "375/375 [==============================] - 16s 42ms/step - loss: 1.2607 - accuracy: 0.6838\n",
            "Epoch 61/200\n",
            "375/375 [==============================] - 16s 42ms/step - loss: 1.4171 - accuracy: 0.6462\n",
            "Epoch 62/200\n",
            "375/375 [==============================] - 16s 42ms/step - loss: 1.2521 - accuracy: 0.6828\n",
            "Epoch 63/200\n",
            "375/375 [==============================] - 16s 42ms/step - loss: 1.1366 - accuracy: 0.7183\n",
            "Epoch 64/200\n",
            "375/375 [==============================] - 16s 42ms/step - loss: 1.1541 - accuracy: 0.7157\n",
            "Epoch 65/200\n",
            "375/375 [==============================] - 16s 42ms/step - loss: 1.0807 - accuracy: 0.7298\n",
            "Epoch 66/200\n",
            "375/375 [==============================] - 16s 42ms/step - loss: 1.0482 - accuracy: 0.7383\n",
            "Epoch 67/200\n",
            "375/375 [==============================] - 16s 42ms/step - loss: 1.0320 - accuracy: 0.7403\n",
            "Epoch 68/200\n",
            "375/375 [==============================] - 16s 42ms/step - loss: 0.9932 - accuracy: 0.7550\n",
            "Epoch 69/200\n",
            "375/375 [==============================] - 16s 42ms/step - loss: 1.2252 - accuracy: 0.6980\n",
            "Epoch 70/200\n",
            "375/375 [==============================] - 16s 42ms/step - loss: 1.0952 - accuracy: 0.7226\n",
            "Epoch 71/200\n",
            "375/375 [==============================] - 16s 42ms/step - loss: 0.9686 - accuracy: 0.7569\n",
            "Epoch 72/200\n",
            "375/375 [==============================] - 16s 42ms/step - loss: 0.9535 - accuracy: 0.7599\n",
            "Epoch 73/200\n",
            "375/375 [==============================] - 16s 42ms/step - loss: 0.8986 - accuracy: 0.7715\n",
            "Epoch 74/200\n",
            "375/375 [==============================] - 16s 42ms/step - loss: 0.8894 - accuracy: 0.7783\n",
            "Epoch 75/200\n",
            "375/375 [==============================] - 16s 42ms/step - loss: 0.8530 - accuracy: 0.7879\n",
            "Epoch 76/200\n",
            "375/375 [==============================] - 16s 42ms/step - loss: 0.9010 - accuracy: 0.7702\n",
            "Epoch 77/200\n",
            "375/375 [==============================] - 16s 42ms/step - loss: 0.9588 - accuracy: 0.7527\n",
            "Epoch 78/200\n",
            "375/375 [==============================] - 16s 42ms/step - loss: 0.9637 - accuracy: 0.7531\n",
            "Epoch 79/200\n",
            "375/375 [==============================] - 16s 42ms/step - loss: 0.9423 - accuracy: 0.7571\n",
            "Epoch 80/200\n",
            "375/375 [==============================] - 16s 42ms/step - loss: 0.8127 - accuracy: 0.7935\n",
            "Epoch 81/200\n",
            "375/375 [==============================] - 16s 42ms/step - loss: 0.7818 - accuracy: 0.8030\n",
            "Epoch 82/200\n",
            "375/375 [==============================] - 16s 42ms/step - loss: 0.7681 - accuracy: 0.8052\n",
            "Epoch 83/200\n",
            "375/375 [==============================] - 16s 42ms/step - loss: 0.7254 - accuracy: 0.8145\n",
            "Epoch 84/200\n",
            "375/375 [==============================] - 16s 42ms/step - loss: 0.7118 - accuracy: 0.8189\n",
            "Epoch 85/200\n",
            "375/375 [==============================] - 16s 42ms/step - loss: 0.7172 - accuracy: 0.8143\n",
            "Epoch 86/200\n",
            "375/375 [==============================] - 16s 42ms/step - loss: 0.8318 - accuracy: 0.7838\n",
            "Epoch 87/200\n",
            "375/375 [==============================] - 16s 42ms/step - loss: 0.8948 - accuracy: 0.7634\n",
            "Epoch 88/200\n",
            "375/375 [==============================] - 16s 42ms/step - loss: 0.8654 - accuracy: 0.7706\n",
            "Epoch 89/200\n",
            "375/375 [==============================] - 16s 42ms/step - loss: 0.7856 - accuracy: 0.7931\n",
            "Epoch 90/200\n",
            "375/375 [==============================] - 16s 42ms/step - loss: 0.7132 - accuracy: 0.8155\n",
            "Epoch 91/200\n",
            "375/375 [==============================] - 16s 42ms/step - loss: 0.6619 - accuracy: 0.8288\n",
            "Epoch 92/200\n",
            "375/375 [==============================] - 16s 42ms/step - loss: 0.6519 - accuracy: 0.8309\n",
            "Epoch 93/200\n",
            "375/375 [==============================] - 16s 42ms/step - loss: 0.6408 - accuracy: 0.8353\n",
            "Epoch 94/200\n",
            "375/375 [==============================] - 16s 42ms/step - loss: 0.6737 - accuracy: 0.8213\n",
            "Epoch 95/200\n",
            "375/375 [==============================] - 16s 42ms/step - loss: 0.7339 - accuracy: 0.8064\n",
            "Epoch 96/200\n",
            "375/375 [==============================] - 16s 42ms/step - loss: 0.8304 - accuracy: 0.7802\n",
            "Epoch 97/200\n",
            "375/375 [==============================] - 16s 42ms/step - loss: 0.7929 - accuracy: 0.7898\n",
            "Epoch 98/200\n",
            "375/375 [==============================] - 16s 42ms/step - loss: 0.7057 - accuracy: 0.8089\n",
            "Epoch 99/200\n",
            "375/375 [==============================] - 16s 42ms/step - loss: 0.6492 - accuracy: 0.8287\n",
            "Epoch 100/200\n",
            "375/375 [==============================] - 16s 42ms/step - loss: 0.6205 - accuracy: 0.8366\n",
            "Epoch 101/200\n",
            "375/375 [==============================] - 16s 42ms/step - loss: 0.6143 - accuracy: 0.8356\n",
            "Epoch 102/200\n",
            "375/375 [==============================] - 16s 42ms/step - loss: 0.6425 - accuracy: 0.8268\n",
            "Epoch 103/200\n",
            "375/375 [==============================] - 16s 42ms/step - loss: 0.7580 - accuracy: 0.7948\n",
            "Epoch 104/200\n",
            "375/375 [==============================] - 16s 42ms/step - loss: 0.7826 - accuracy: 0.7892\n",
            "Epoch 105/200\n",
            "375/375 [==============================] - 16s 42ms/step - loss: 0.6999 - accuracy: 0.8117\n",
            "Epoch 106/200\n",
            "375/375 [==============================] - 16s 42ms/step - loss: 0.6291 - accuracy: 0.8275\n",
            "Epoch 107/200\n",
            "375/375 [==============================] - 16s 42ms/step - loss: 0.6110 - accuracy: 0.8368\n",
            "Epoch 108/200\n",
            "375/375 [==============================] - 16s 42ms/step - loss: 0.6407 - accuracy: 0.8295\n",
            "Epoch 109/200\n",
            "375/375 [==============================] - 16s 42ms/step - loss: 0.6306 - accuracy: 0.8299\n",
            "Epoch 110/200\n",
            "375/375 [==============================] - 16s 42ms/step - loss: 0.6209 - accuracy: 0.8321\n",
            "Epoch 111/200\n",
            "375/375 [==============================] - 16s 42ms/step - loss: 0.5989 - accuracy: 0.8375\n",
            "Epoch 112/200\n",
            "375/375 [==============================] - 16s 42ms/step - loss: 0.6121 - accuracy: 0.8349\n",
            "Epoch 113/200\n",
            "375/375 [==============================] - 16s 42ms/step - loss: 0.6180 - accuracy: 0.8271\n",
            "Epoch 114/200\n",
            "375/375 [==============================] - 16s 42ms/step - loss: 0.6534 - accuracy: 0.8193\n",
            "Epoch 115/200\n",
            "375/375 [==============================] - 16s 42ms/step - loss: 0.7116 - accuracy: 0.8018\n",
            "Epoch 116/200\n",
            "375/375 [==============================] - 16s 42ms/step - loss: 0.7196 - accuracy: 0.8002\n",
            "Epoch 117/200\n",
            "375/375 [==============================] - 16s 43ms/step - loss: 0.6482 - accuracy: 0.8221\n",
            "Epoch 118/200\n",
            "375/375 [==============================] - 16s 43ms/step - loss: 0.5760 - accuracy: 0.8377\n",
            "Epoch 119/200\n",
            "375/375 [==============================] - 16s 42ms/step - loss: 0.5520 - accuracy: 0.8449\n",
            "Epoch 120/200\n",
            "375/375 [==============================] - 16s 43ms/step - loss: 0.5635 - accuracy: 0.8424\n",
            "Epoch 121/200\n",
            "375/375 [==============================] - 16s 42ms/step - loss: 0.5674 - accuracy: 0.8414\n",
            "Epoch 122/200\n",
            "375/375 [==============================] - 16s 42ms/step - loss: 0.5886 - accuracy: 0.8364\n",
            "Epoch 123/200\n",
            "375/375 [==============================] - 16s 43ms/step - loss: 0.6926 - accuracy: 0.8050\n",
            "Epoch 124/200\n",
            "375/375 [==============================] - 16s 42ms/step - loss: 0.7370 - accuracy: 0.7952\n",
            "Epoch 125/200\n",
            "375/375 [==============================] - 16s 43ms/step - loss: 0.6939 - accuracy: 0.8083\n",
            "Epoch 126/200\n",
            "375/375 [==============================] - 16s 43ms/step - loss: 0.6081 - accuracy: 0.8297\n"
          ]
        }
      ],
      "source": [
        "history = model.fit(x_train, y_train, epochs = 200, callbacks = [early_callback])"
      ]
    },
    {
      "cell_type": "code",
      "execution_count": 51,
      "metadata": {
        "colab": {
          "base_uri": "https://localhost:8080/",
          "height": 265
        },
        "id": "5pQqObkd-yjQ",
        "outputId": "9383e975-79bb-48e4-fb7a-10724ba49fc4"
      },
      "outputs": [
        {
          "data": {
            "image/png": "[encoded data removed]",
            "text/plain": [
              "<Figure size 432x288 with 1 Axes>"
            ]
          },
          "metadata": {
            "needs_background": "light"
          },
          "output_type": "display_data"
        }
      ],
      "source": [
        "plt.plot(history.history['accuracy'])\n",
        "plt.show()"
      ]
    },
    {
      "cell_type": "code",
      "execution_count": 52,
      "metadata": {
        "colab": {
          "base_uri": "https://localhost:8080/",
          "height": 267
        },
        "id": "oO0TRf8kHGv8",
        "outputId": "c3404c46-d36d-4b95-be31-937b148cb221"
      },
      "outputs": [
        {
          "data": {
            "image/png": "[encoded data removed]",
            "text/plain": [
              "<Figure size 432x288 with 1 Axes>"
            ]
          },
          "metadata": {
            "needs_background": "light"
          },
          "output_type": "display_data"
        }
      ],
      "source": [
        "plt.plot(history.history['loss'])\n",
        "plt.show()"
      ]
    },
    {
      "cell_type": "code",
      "execution_count": 54,
      "metadata": {
        "id": "pHS2N-vAIdM-"
      },
      "outputs": [],
      "source": [
        "model.save('Model', save_format='h5')"
      ]
    },
    {
      "cell_type": "markdown",
      "metadata": {
        "id": "OwUApSA8M1eF"
      },
      "source": [
        "**MODEL TESTING AND OUTPUT GENERATION**"
      ]
    },
    {
      "cell_type": "code",
      "execution_count": 80,
      "metadata": {
        "id": "bduh1E-UHfHq"
      },
      "outputs": [],
      "source": [
        "def poetry_gen(model, st, tokenizer, n_words, max_seq_length):\n",
        "  ex = string.punctuation\n",
        "  #out_st = ''.join(ch for ch in st if ch not in punc)\n",
        "  st = ''.join(ch.lower() for ch in st if ch not in ex)\n",
        "  for i in range(n_words):\n",
        "    seq = tokenizer.texts_to_sequences([st])[0]\n",
        "    seq = np.array(pad_sequences([seq],maxlen=max_seq_length-1,padding='pre'))\n",
        "    output = np.argmax(model.predict(seq),axis=1)\n",
        "    word = \"\"\n",
        "    for w, index in tokenizer.word_index.items():\n",
        "      if index==output:\n",
        "        word=w\n",
        "        break\n",
        "    st += \" \" + word\n",
        "  return st"
      ]
    },
    {
      "cell_type": "code",
      "execution_count": 82,
      "metadata": {
        "colab": {
          "base_uri": "https://localhost:8080/"
        },
        "id": "6LIAMAXdHNSC",
        "outputId": "912eda5c-a685-4076-e80e-36a0a098e5bd"
      },
      "outputs": [
        {
          "name": "stdout",
          "output_type": "stream",
          "text": [
            "come all ye maidens young and fair early was in peggy found from rosin the bow moved no wonder we daughter so were you love me and\n"
          ]
        }
      ],
      "source": [
        "seed_text = 'Come all ye maidens young and fair'\n",
        "n_words = 20\n",
        "output = poetry_gen(model, seed_text, tokenizer, n_words, max_seq_length)\n",
        "print(output)"
      ]
    },
    {
      "cell_type": "code",
      "execution_count": null,
      "metadata": {},
      "outputs": [],
      "source": [
        "with open('tokenizer.pickle', 'wb') as handle:\n",
        "    pickle.dump(tokenizer, handle, protocol=pickle.HIGHEST_PROTOCOL)"
      ]
    }
  ],
  "metadata": {
    "accelerator": "GPU",
    "colab": {
      "name": "Poetry_Generation.ipynb",
      "provenance": []
    },
    "kernelspec": {
      "display_name": "Python 3",
      "name": "python3"
    },
    "language_info": {
      "name": "python"
    }
  },
  "nbformat": 4,
  "nbformat_minor": 0
}
